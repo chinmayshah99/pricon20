{
  "nbformat": 4,
  "nbformat_minor": 0,
  "metadata": {
    "colab": {
      "name": "Part 1.ipynb",
      "provenance": []
    },
    "kernelspec": {
      "name": "python3",
      "display_name": "Python 3"
    }
  },
  "cells": [
    {
      "cell_type": "markdown",
      "metadata": {
        "id": "N8s8-wKjxtQA",
        "colab_type": "text"
      },
      "source": [
        "## Part 1: Demonstration of Differential Privacy using PyDP\n",
        "\n",
        "### About PyDP\n",
        "The PyDP package provides access to Differential Privacy algorithms in Python. This example uses the 1.0 version of the package that has the following limitations:\n",
        "\n",
        "1. This version only supports [Google's Differential Privacy library](https://github.com/google/differential-privacy).\n",
        "2. Laplace noise generation technique.\n",
        "3. Supports only integer and floating point values"
      ]
    },
    {
      "cell_type": "markdown",
      "metadata": {
        "id": "4jVg5GV6OhVX",
        "colab_type": "text"
      },
      "source": [
        "### What's in this Tutorial\n",
        "To demonstrate DP, we protect the user from something called Membership Inference Attack(MIA). \n",
        "\n",
        "The idea behing DP is we should **not** be able to identify the identity of an individual user.\n",
        "\n",
        "To prove that, we are going to take a database and create two copies of it such that they differ in only one record. Or exactly one record is absent from the original Database."
      ]
    },
    {
      "cell_type": "markdown",
      "metadata": {
        "id": "thx_3b-lTNun",
        "colab_type": "text"
      },
      "source": [
        "#### The Proof\n",
        "\n",
        "We have generated a synthetic dataset with 5000 records with private information such as name as well as the email of the user. \n",
        "\n",
        "The objective of this notebook is going to be able to demonstrate how DP can protect the user from MIA. \n",
        "\n",
        "In the dataset at hand, we have the Item spent by the user (sales_amount) of each user. So if we take the sum of the sales_amount and compare it with the sum of sales_amount with the DB which has exactly one less record, we should be able to identify which user has spend how much and hence identify the user, which using the help of DP, we can avoid that. "
      ]
    },
    {
      "cell_type": "code",
      "metadata": {
        "id": "wCWzGstiw7Y9",
        "colab_type": "code",
        "colab": {
          "base_uri": "https://localhost:8080/",
          "height": 34
        },
        "outputId": "839b7493-7da1-4f29-f921-932018749c7b"
      },
      "source": [
        "!pip install python-dp # installing PyDP"
      ],
      "execution_count": 35,
      "outputs": [
        {
          "output_type": "stream",
          "text": [
            "Requirement already satisfied: python-dp in /usr/local/lib/python3.6/dist-packages (1.0.0)\n"
          ],
          "name": "stdout"
        }
      ]
    },
    {
      "cell_type": "code",
      "metadata": {
        "id": "3c-nVwj9w-VW",
        "colab_type": "code",
        "colab": {}
      },
      "source": [
        "import pydp as dp # by convention our package is to be imported as dp (for Differential Privacy!)\n",
        "from pydp.algorithms.laplacian import BoundedSum, BoundedMean, Count, Max\n",
        "import pandas as pd\n",
        "import statistics # for calculating mean without applying differential privacy\n",
        "import numpy as np\n",
        "import matplotlib.pyplot as plt"
      ],
      "execution_count": 36,
      "outputs": []
    },
    {
      "cell_type": "markdown",
      "metadata": {
        "id": "f_tO7QHYUWnq",
        "colab_type": "text"
      },
      "source": [
        "### Fetching the Data and loading it! "
      ]
    },
    {
      "cell_type": "code",
      "metadata": {
        "id": "fCPFolUByhhf",
        "colab_type": "code",
        "colab": {
          "base_uri": "https://localhost:8080/",
          "height": 204
        },
        "outputId": "f029bf43-127d-4b64-8349-ed0c11786995"
      },
      "source": [
        "# get carrots data from our public github repo\n",
        "url1 = 'https://raw.githubusercontent.com/OpenMined/PyDP/dev/examples/Tutorial%204-Launch_demo/data/01.csv'\n",
        "df1 = pd.read_csv(url1,sep=\",\", engine = \"python\")\n",
        "df1.head()"
      ],
      "execution_count": 37,
      "outputs": [
        {
          "output_type": "execute_result",
          "data": {
            "text/html": [
              "<div>\n",
              "<style scoped>\n",
              "    .dataframe tbody tr th:only-of-type {\n",
              "        vertical-align: middle;\n",
              "    }\n",
              "\n",
              "    .dataframe tbody tr th {\n",
              "        vertical-align: top;\n",
              "    }\n",
              "\n",
              "    .dataframe thead th {\n",
              "        text-align: right;\n",
              "    }\n",
              "</style>\n",
              "<table border=\"1\" class=\"dataframe\">\n",
              "  <thead>\n",
              "    <tr style=\"text-align: right;\">\n",
              "      <th></th>\n",
              "      <th>id</th>\n",
              "      <th>first_name</th>\n",
              "      <th>last_name</th>\n",
              "      <th>email</th>\n",
              "      <th>sales_amount</th>\n",
              "      <th>state</th>\n",
              "    </tr>\n",
              "  </thead>\n",
              "  <tbody>\n",
              "    <tr>\n",
              "      <th>0</th>\n",
              "      <td>1</td>\n",
              "      <td>Osbourne</td>\n",
              "      <td>Gillions</td>\n",
              "      <td>ogillions0@feedburner.com</td>\n",
              "      <td>31.94</td>\n",
              "      <td>Florida</td>\n",
              "    </tr>\n",
              "    <tr>\n",
              "      <th>1</th>\n",
              "      <td>2</td>\n",
              "      <td>Glynn</td>\n",
              "      <td>Friett</td>\n",
              "      <td>gfriett1@blog.com</td>\n",
              "      <td>12.46</td>\n",
              "      <td>California</td>\n",
              "    </tr>\n",
              "    <tr>\n",
              "      <th>2</th>\n",
              "      <td>3</td>\n",
              "      <td>Jori</td>\n",
              "      <td>Blockley</td>\n",
              "      <td>jblockley2@unesco.org</td>\n",
              "      <td>191.14</td>\n",
              "      <td>Colorado</td>\n",
              "    </tr>\n",
              "    <tr>\n",
              "      <th>3</th>\n",
              "      <td>4</td>\n",
              "      <td>Garald</td>\n",
              "      <td>Dorian</td>\n",
              "      <td>gdorian3@webeden.co.uk</td>\n",
              "      <td>126.58</td>\n",
              "      <td>Texas</td>\n",
              "    </tr>\n",
              "    <tr>\n",
              "      <th>4</th>\n",
              "      <td>5</td>\n",
              "      <td>Mercy</td>\n",
              "      <td>Pilkington</td>\n",
              "      <td>mpilkington4@jugem.jp</td>\n",
              "      <td>68.32</td>\n",
              "      <td>Florida</td>\n",
              "    </tr>\n",
              "  </tbody>\n",
              "</table>\n",
              "</div>"
            ],
            "text/plain": [
              "   id first_name  ... sales_amount       state\n",
              "0   1   Osbourne  ...        31.94     Florida\n",
              "1   2      Glynn  ...        12.46  California\n",
              "2   3       Jori  ...       191.14    Colorado\n",
              "3   4     Garald  ...       126.58       Texas\n",
              "4   5      Mercy  ...        68.32     Florida\n",
              "\n",
              "[5 rows x 6 columns]"
            ]
          },
          "metadata": {
            "tags": []
          },
          "execution_count": 37
        }
      ]
    },
    {
      "cell_type": "markdown",
      "metadata": {
        "id": "fmKsASpgNc-L",
        "colab_type": "text"
      },
      "source": [
        ""
      ]
    },
    {
      "cell_type": "code",
      "metadata": {
        "id": "MVoAz3pu0PuT",
        "colab_type": "code",
        "colab": {
          "base_uri": "https://localhost:8080/",
          "height": 204
        },
        "outputId": "e5048360-ddee-4e6f-e0f8-b9e163084457"
      },
      "source": [
        "url2 = 'https://raw.githubusercontent.com/OpenMined/PyDP/dev/examples/Tutorial%204-Launch_demo/data/02.csv'\n",
        "df2 = pd.read_csv(url2,sep=\",\", engine = \"python\")\n",
        "df2.head()"
      ],
      "execution_count": 38,
      "outputs": [
        {
          "output_type": "execute_result",
          "data": {
            "text/html": [
              "<div>\n",
              "<style scoped>\n",
              "    .dataframe tbody tr th:only-of-type {\n",
              "        vertical-align: middle;\n",
              "    }\n",
              "\n",
              "    .dataframe tbody tr th {\n",
              "        vertical-align: top;\n",
              "    }\n",
              "\n",
              "    .dataframe thead th {\n",
              "        text-align: right;\n",
              "    }\n",
              "</style>\n",
              "<table border=\"1\" class=\"dataframe\">\n",
              "  <thead>\n",
              "    <tr style=\"text-align: right;\">\n",
              "      <th></th>\n",
              "      <th>id</th>\n",
              "      <th>first_name</th>\n",
              "      <th>last_name</th>\n",
              "      <th>email</th>\n",
              "      <th>sales_amount</th>\n",
              "      <th>state</th>\n",
              "    </tr>\n",
              "  </thead>\n",
              "  <tbody>\n",
              "    <tr>\n",
              "      <th>0</th>\n",
              "      <td>1</td>\n",
              "      <td>Wallie</td>\n",
              "      <td>Kaman</td>\n",
              "      <td>wkaman0@samsung.com</td>\n",
              "      <td>99.69</td>\n",
              "      <td>Idaho</td>\n",
              "    </tr>\n",
              "    <tr>\n",
              "      <th>1</th>\n",
              "      <td>2</td>\n",
              "      <td>Raynard</td>\n",
              "      <td>Tooby</td>\n",
              "      <td>rtooby1@indiegogo.com</td>\n",
              "      <td>208.61</td>\n",
              "      <td>Texas</td>\n",
              "    </tr>\n",
              "    <tr>\n",
              "      <th>2</th>\n",
              "      <td>3</td>\n",
              "      <td>Mandie</td>\n",
              "      <td>Stallibrass</td>\n",
              "      <td>mstallibrass2@princeton.edu</td>\n",
              "      <td>42.87</td>\n",
              "      <td>Michigan</td>\n",
              "    </tr>\n",
              "    <tr>\n",
              "      <th>3</th>\n",
              "      <td>4</td>\n",
              "      <td>Nonna</td>\n",
              "      <td>Regitz</td>\n",
              "      <td>nregitz3@icq.com</td>\n",
              "      <td>160.94</td>\n",
              "      <td>Iowa</td>\n",
              "    </tr>\n",
              "    <tr>\n",
              "      <th>4</th>\n",
              "      <td>5</td>\n",
              "      <td>Barthel</td>\n",
              "      <td>Cowgill</td>\n",
              "      <td>bcowgill4@tiny.cc</td>\n",
              "      <td>179.88</td>\n",
              "      <td>Ohio</td>\n",
              "    </tr>\n",
              "  </tbody>\n",
              "</table>\n",
              "</div>"
            ],
            "text/plain": [
              "   id first_name  ... sales_amount     state\n",
              "0   1     Wallie  ...        99.69     Idaho\n",
              "1   2    Raynard  ...       208.61     Texas\n",
              "2   3     Mandie  ...        42.87  Michigan\n",
              "3   4      Nonna  ...       160.94      Iowa\n",
              "4   5    Barthel  ...       179.88      Ohio\n",
              "\n",
              "[5 rows x 6 columns]"
            ]
          },
          "metadata": {
            "tags": []
          },
          "execution_count": 38
        }
      ]
    },
    {
      "cell_type": "code",
      "metadata": {
        "id": "Hc_8FNF80i66",
        "colab_type": "code",
        "colab": {
          "base_uri": "https://localhost:8080/",
          "height": 204
        },
        "outputId": "e15ae56b-1cbd-4742-a9cf-104762c3d653"
      },
      "source": [
        "url3 = 'https://raw.githubusercontent.com/OpenMined/PyDP/dev/examples/Tutorial%204-Launch_demo/data/03.csv'\n",
        "df3 = pd.read_csv(url3,sep=\",\", engine = \"python\")\n",
        "df3.head()"
      ],
      "execution_count": 39,
      "outputs": [
        {
          "output_type": "execute_result",
          "data": {
            "text/html": [
              "<div>\n",
              "<style scoped>\n",
              "    .dataframe tbody tr th:only-of-type {\n",
              "        vertical-align: middle;\n",
              "    }\n",
              "\n",
              "    .dataframe tbody tr th {\n",
              "        vertical-align: top;\n",
              "    }\n",
              "\n",
              "    .dataframe thead th {\n",
              "        text-align: right;\n",
              "    }\n",
              "</style>\n",
              "<table border=\"1\" class=\"dataframe\">\n",
              "  <thead>\n",
              "    <tr style=\"text-align: right;\">\n",
              "      <th></th>\n",
              "      <th>id</th>\n",
              "      <th>first_name</th>\n",
              "      <th>last_name</th>\n",
              "      <th>email</th>\n",
              "      <th>sales_amount</th>\n",
              "      <th>state</th>\n",
              "    </tr>\n",
              "  </thead>\n",
              "  <tbody>\n",
              "    <tr>\n",
              "      <th>0</th>\n",
              "      <td>1</td>\n",
              "      <td>Tomasina</td>\n",
              "      <td>Marcos</td>\n",
              "      <td>tmarcos0@wix.com</td>\n",
              "      <td>161.38</td>\n",
              "      <td>Indiana</td>\n",
              "    </tr>\n",
              "    <tr>\n",
              "      <th>1</th>\n",
              "      <td>2</td>\n",
              "      <td>Mill</td>\n",
              "      <td>Yitzhak</td>\n",
              "      <td>myitzhak1@barnesandnoble.com</td>\n",
              "      <td>182.22</td>\n",
              "      <td>Florida</td>\n",
              "    </tr>\n",
              "    <tr>\n",
              "      <th>2</th>\n",
              "      <td>3</td>\n",
              "      <td>Hobart</td>\n",
              "      <td>Banaszczyk</td>\n",
              "      <td>hbanaszczyk2@mac.com</td>\n",
              "      <td>41.67</td>\n",
              "      <td>Texas</td>\n",
              "    </tr>\n",
              "    <tr>\n",
              "      <th>3</th>\n",
              "      <td>4</td>\n",
              "      <td>Bonita</td>\n",
              "      <td>Benting</td>\n",
              "      <td>bbenting3@smugmug.com</td>\n",
              "      <td>190.26</td>\n",
              "      <td>Indiana</td>\n",
              "    </tr>\n",
              "    <tr>\n",
              "      <th>4</th>\n",
              "      <td>5</td>\n",
              "      <td>Kasper</td>\n",
              "      <td>Deyes</td>\n",
              "      <td>kdeyes4@storify.com</td>\n",
              "      <td>177.94</td>\n",
              "      <td>Ohio</td>\n",
              "    </tr>\n",
              "  </tbody>\n",
              "</table>\n",
              "</div>"
            ],
            "text/plain": [
              "   id first_name  ... sales_amount    state\n",
              "0   1   Tomasina  ...       161.38  Indiana\n",
              "1   2       Mill  ...       182.22  Florida\n",
              "2   3     Hobart  ...        41.67    Texas\n",
              "3   4     Bonita  ...       190.26  Indiana\n",
              "4   5     Kasper  ...       177.94     Ohio\n",
              "\n",
              "[5 rows x 6 columns]"
            ]
          },
          "metadata": {
            "tags": []
          },
          "execution_count": 39
        }
      ]
    },
    {
      "cell_type": "code",
      "metadata": {
        "id": "C8yXyul36wbg",
        "colab_type": "code",
        "colab": {
          "base_uri": "https://localhost:8080/",
          "height": 204
        },
        "outputId": "8e0ce5b7-3431-447d-b6a6-923df90ecb66"
      },
      "source": [
        "url4 = 'https://raw.githubusercontent.com/OpenMined/PyDP/dev/examples/Tutorial%204-Launch_demo/data/04.csv'\n",
        "df4 = pd.read_csv(url4,sep=\",\", engine = \"python\")\n",
        "df4.head()"
      ],
      "execution_count": 40,
      "outputs": [
        {
          "output_type": "execute_result",
          "data": {
            "text/html": [
              "<div>\n",
              "<style scoped>\n",
              "    .dataframe tbody tr th:only-of-type {\n",
              "        vertical-align: middle;\n",
              "    }\n",
              "\n",
              "    .dataframe tbody tr th {\n",
              "        vertical-align: top;\n",
              "    }\n",
              "\n",
              "    .dataframe thead th {\n",
              "        text-align: right;\n",
              "    }\n",
              "</style>\n",
              "<table border=\"1\" class=\"dataframe\">\n",
              "  <thead>\n",
              "    <tr style=\"text-align: right;\">\n",
              "      <th></th>\n",
              "      <th>id</th>\n",
              "      <th>first_name</th>\n",
              "      <th>last_name</th>\n",
              "      <th>email</th>\n",
              "      <th>sales_amount</th>\n",
              "      <th>state</th>\n",
              "    </tr>\n",
              "  </thead>\n",
              "  <tbody>\n",
              "    <tr>\n",
              "      <th>0</th>\n",
              "      <td>1</td>\n",
              "      <td>Dylan</td>\n",
              "      <td>Mattocks</td>\n",
              "      <td>dmattocks0@elegantthemes.com</td>\n",
              "      <td>141.90</td>\n",
              "      <td>Wisconsin</td>\n",
              "    </tr>\n",
              "    <tr>\n",
              "      <th>1</th>\n",
              "      <td>2</td>\n",
              "      <td>Tully</td>\n",
              "      <td>Pettko</td>\n",
              "      <td>tpettko1@engadget.com</td>\n",
              "      <td>15.09</td>\n",
              "      <td>Missouri</td>\n",
              "    </tr>\n",
              "    <tr>\n",
              "      <th>2</th>\n",
              "      <td>3</td>\n",
              "      <td>Ruy</td>\n",
              "      <td>Rodrigo</td>\n",
              "      <td>rrodrigo2@whitehouse.gov</td>\n",
              "      <td>90.72</td>\n",
              "      <td>Florida</td>\n",
              "    </tr>\n",
              "    <tr>\n",
              "      <th>3</th>\n",
              "      <td>4</td>\n",
              "      <td>Blakeley</td>\n",
              "      <td>Lower</td>\n",
              "      <td>blower3@macromedia.com</td>\n",
              "      <td>29.87</td>\n",
              "      <td>California</td>\n",
              "    </tr>\n",
              "    <tr>\n",
              "      <th>4</th>\n",
              "      <td>5</td>\n",
              "      <td>Horace</td>\n",
              "      <td>Studdert</td>\n",
              "      <td>hstuddert4@theatlantic.com</td>\n",
              "      <td>196.99</td>\n",
              "      <td>Ohio</td>\n",
              "    </tr>\n",
              "  </tbody>\n",
              "</table>\n",
              "</div>"
            ],
            "text/plain": [
              "   id first_name  ... sales_amount       state\n",
              "0   1      Dylan  ...       141.90   Wisconsin\n",
              "1   2      Tully  ...        15.09    Missouri\n",
              "2   3        Ruy  ...        90.72     Florida\n",
              "3   4   Blakeley  ...        29.87  California\n",
              "4   5     Horace  ...       196.99        Ohio\n",
              "\n",
              "[5 rows x 6 columns]"
            ]
          },
          "metadata": {
            "tags": []
          },
          "execution_count": 40
        }
      ]
    },
    {
      "cell_type": "code",
      "metadata": {
        "id": "Eqxex9M662W-",
        "colab_type": "code",
        "colab": {
          "base_uri": "https://localhost:8080/",
          "height": 204
        },
        "outputId": "e6939de4-e7bc-479f-9ccc-32f29c60aa72"
      },
      "source": [
        "url5 = 'https://raw.githubusercontent.com/OpenMined/PyDP/dev/examples/Tutorial%204-Launch_demo/data/05.csv'\n",
        "df5 = pd.read_csv(url5,sep=\",\", engine = \"python\")\n",
        "df5.head()"
      ],
      "execution_count": 41,
      "outputs": [
        {
          "output_type": "execute_result",
          "data": {
            "text/html": [
              "<div>\n",
              "<style scoped>\n",
              "    .dataframe tbody tr th:only-of-type {\n",
              "        vertical-align: middle;\n",
              "    }\n",
              "\n",
              "    .dataframe tbody tr th {\n",
              "        vertical-align: top;\n",
              "    }\n",
              "\n",
              "    .dataframe thead th {\n",
              "        text-align: right;\n",
              "    }\n",
              "</style>\n",
              "<table border=\"1\" class=\"dataframe\">\n",
              "  <thead>\n",
              "    <tr style=\"text-align: right;\">\n",
              "      <th></th>\n",
              "      <th>id</th>\n",
              "      <th>first_name</th>\n",
              "      <th>last_name</th>\n",
              "      <th>email</th>\n",
              "      <th>sales_amount</th>\n",
              "      <th>state</th>\n",
              "    </tr>\n",
              "  </thead>\n",
              "  <tbody>\n",
              "    <tr>\n",
              "      <th>0</th>\n",
              "      <td>1</td>\n",
              "      <td>Susi</td>\n",
              "      <td>Barker</td>\n",
              "      <td>sbarker0@comsenz.com</td>\n",
              "      <td>220.50</td>\n",
              "      <td>Kentucky</td>\n",
              "    </tr>\n",
              "    <tr>\n",
              "      <th>1</th>\n",
              "      <td>2</td>\n",
              "      <td>Gan</td>\n",
              "      <td>Stork</td>\n",
              "      <td>gstork1@who.int</td>\n",
              "      <td>31.75</td>\n",
              "      <td>California</td>\n",
              "    </tr>\n",
              "    <tr>\n",
              "      <th>2</th>\n",
              "      <td>3</td>\n",
              "      <td>Corene</td>\n",
              "      <td>Izod</td>\n",
              "      <td>cizod2@wikia.com</td>\n",
              "      <td>163.53</td>\n",
              "      <td>California</td>\n",
              "    </tr>\n",
              "    <tr>\n",
              "      <th>3</th>\n",
              "      <td>4</td>\n",
              "      <td>Cornell</td>\n",
              "      <td>Schoales</td>\n",
              "      <td>cschoales3@freewebs.com</td>\n",
              "      <td>59.09</td>\n",
              "      <td>Minnesota</td>\n",
              "    </tr>\n",
              "    <tr>\n",
              "      <th>4</th>\n",
              "      <td>5</td>\n",
              "      <td>Petrina</td>\n",
              "      <td>Kennaird</td>\n",
              "      <td>pkennaird4@patch.com</td>\n",
              "      <td>186.38</td>\n",
              "      <td>Georgia</td>\n",
              "    </tr>\n",
              "  </tbody>\n",
              "</table>\n",
              "</div>"
            ],
            "text/plain": [
              "   id first_name last_name                    email  sales_amount       state\n",
              "0   1       Susi    Barker     sbarker0@comsenz.com        220.50    Kentucky\n",
              "1   2        Gan     Stork          gstork1@who.int         31.75  California\n",
              "2   3     Corene      Izod         cizod2@wikia.com        163.53  California\n",
              "3   4    Cornell  Schoales  cschoales3@freewebs.com         59.09   Minnesota\n",
              "4   5    Petrina  Kennaird     pkennaird4@patch.com        186.38     Georgia"
            ]
          },
          "metadata": {
            "tags": []
          },
          "execution_count": 41
        }
      ]
    },
    {
      "cell_type": "markdown",
      "metadata": {
        "id": "gVJZiHU7Ufob",
        "colab_type": "text"
      },
      "source": [
        "#### Combining the whole data into one single dataframe. "
      ]
    },
    {
      "cell_type": "code",
      "metadata": {
        "id": "31B6M3TZ66jz",
        "colab_type": "code",
        "colab": {}
      },
      "source": [
        "combined_df_temp = [df1, df2, df3, df4, df5]\n",
        "original_dataset = pd.concat(combined_df_temp)"
      ],
      "execution_count": 42,
      "outputs": []
    },
    {
      "cell_type": "markdown",
      "metadata": {
        "id": "7RIyfnaUUuvT",
        "colab_type": "text"
      },
      "source": [
        "The size of the combined dataset: "
      ]
    },
    {
      "cell_type": "code",
      "metadata": {
        "id": "SQNbf4ym7Kmd",
        "colab_type": "code",
        "colab": {
          "base_uri": "https://localhost:8080/",
          "height": 34
        },
        "outputId": "22d65596-36ff-4218-db81-8e9bad1fa833"
      },
      "source": [
        "original_dataset.shape"
      ],
      "execution_count": 43,
      "outputs": [
        {
          "output_type": "execute_result",
          "data": {
            "text/plain": [
              "(5000, 6)"
            ]
          },
          "metadata": {
            "tags": []
          },
          "execution_count": 43
        }
      ]
    },
    {
      "cell_type": "markdown",
      "metadata": {
        "id": "2DUdhL9NUzwx",
        "colab_type": "text"
      },
      "source": [
        "\n",
        "### Removing 1 record from the DF\n",
        "\n",
        "Now we create our new dataset for testing DP in which we remove exactly one record from the original DB."
      ]
    },
    {
      "cell_type": "code",
      "metadata": {
        "id": "EvPUnSW37NOq",
        "colab_type": "code",
        "colab": {}
      },
      "source": [
        "redact_dataset = original_dataset.copy()\n",
        "redact_dataset = redact_dataset[1:] # this dataset does not have \n",
        "# Osbourne\tGillions\togillions0@feedburner.com\t31.94\tFlorida"
      ],
      "execution_count": 44,
      "outputs": []
    },
    {
      "cell_type": "code",
      "metadata": {
        "id": "giEWElTj8QPX",
        "colab_type": "code",
        "colab": {
          "base_uri": "https://localhost:8080/",
          "height": 204
        },
        "outputId": "38f58c5e-3a5a-41bb-dc16-e31a52b03bef"
      },
      "source": [
        "original_dataset.head()"
      ],
      "execution_count": 45,
      "outputs": [
        {
          "output_type": "execute_result",
          "data": {
            "text/html": [
              "<div>\n",
              "<style scoped>\n",
              "    .dataframe tbody tr th:only-of-type {\n",
              "        vertical-align: middle;\n",
              "    }\n",
              "\n",
              "    .dataframe tbody tr th {\n",
              "        vertical-align: top;\n",
              "    }\n",
              "\n",
              "    .dataframe thead th {\n",
              "        text-align: right;\n",
              "    }\n",
              "</style>\n",
              "<table border=\"1\" class=\"dataframe\">\n",
              "  <thead>\n",
              "    <tr style=\"text-align: right;\">\n",
              "      <th></th>\n",
              "      <th>id</th>\n",
              "      <th>first_name</th>\n",
              "      <th>last_name</th>\n",
              "      <th>email</th>\n",
              "      <th>sales_amount</th>\n",
              "      <th>state</th>\n",
              "    </tr>\n",
              "  </thead>\n",
              "  <tbody>\n",
              "    <tr>\n",
              "      <th>0</th>\n",
              "      <td>1</td>\n",
              "      <td>Osbourne</td>\n",
              "      <td>Gillions</td>\n",
              "      <td>ogillions0@feedburner.com</td>\n",
              "      <td>31.94</td>\n",
              "      <td>Florida</td>\n",
              "    </tr>\n",
              "    <tr>\n",
              "      <th>1</th>\n",
              "      <td>2</td>\n",
              "      <td>Glynn</td>\n",
              "      <td>Friett</td>\n",
              "      <td>gfriett1@blog.com</td>\n",
              "      <td>12.46</td>\n",
              "      <td>California</td>\n",
              "    </tr>\n",
              "    <tr>\n",
              "      <th>2</th>\n",
              "      <td>3</td>\n",
              "      <td>Jori</td>\n",
              "      <td>Blockley</td>\n",
              "      <td>jblockley2@unesco.org</td>\n",
              "      <td>191.14</td>\n",
              "      <td>Colorado</td>\n",
              "    </tr>\n",
              "    <tr>\n",
              "      <th>3</th>\n",
              "      <td>4</td>\n",
              "      <td>Garald</td>\n",
              "      <td>Dorian</td>\n",
              "      <td>gdorian3@webeden.co.uk</td>\n",
              "      <td>126.58</td>\n",
              "      <td>Texas</td>\n",
              "    </tr>\n",
              "    <tr>\n",
              "      <th>4</th>\n",
              "      <td>5</td>\n",
              "      <td>Mercy</td>\n",
              "      <td>Pilkington</td>\n",
              "      <td>mpilkington4@jugem.jp</td>\n",
              "      <td>68.32</td>\n",
              "      <td>Florida</td>\n",
              "    </tr>\n",
              "  </tbody>\n",
              "</table>\n",
              "</div>"
            ],
            "text/plain": [
              "   id first_name  ... sales_amount       state\n",
              "0   1   Osbourne  ...        31.94     Florida\n",
              "1   2      Glynn  ...        12.46  California\n",
              "2   3       Jori  ...       191.14    Colorado\n",
              "3   4     Garald  ...       126.58       Texas\n",
              "4   5      Mercy  ...        68.32     Florida\n",
              "\n",
              "[5 rows x 6 columns]"
            ]
          },
          "metadata": {
            "tags": []
          },
          "execution_count": 45
        }
      ]
    },
    {
      "cell_type": "code",
      "metadata": {
        "id": "oQpIHUte8RMg",
        "colab_type": "code",
        "colab": {
          "base_uri": "https://localhost:8080/",
          "height": 204
        },
        "outputId": "a9ff528e-4130-4a13-ba51-06ed85256a91"
      },
      "source": [
        "redact_dataset.head()"
      ],
      "execution_count": 46,
      "outputs": [
        {
          "output_type": "execute_result",
          "data": {
            "text/html": [
              "<div>\n",
              "<style scoped>\n",
              "    .dataframe tbody tr th:only-of-type {\n",
              "        vertical-align: middle;\n",
              "    }\n",
              "\n",
              "    .dataframe tbody tr th {\n",
              "        vertical-align: top;\n",
              "    }\n",
              "\n",
              "    .dataframe thead th {\n",
              "        text-align: right;\n",
              "    }\n",
              "</style>\n",
              "<table border=\"1\" class=\"dataframe\">\n",
              "  <thead>\n",
              "    <tr style=\"text-align: right;\">\n",
              "      <th></th>\n",
              "      <th>id</th>\n",
              "      <th>first_name</th>\n",
              "      <th>last_name</th>\n",
              "      <th>email</th>\n",
              "      <th>sales_amount</th>\n",
              "      <th>state</th>\n",
              "    </tr>\n",
              "  </thead>\n",
              "  <tbody>\n",
              "    <tr>\n",
              "      <th>1</th>\n",
              "      <td>2</td>\n",
              "      <td>Glynn</td>\n",
              "      <td>Friett</td>\n",
              "      <td>gfriett1@blog.com</td>\n",
              "      <td>12.46</td>\n",
              "      <td>California</td>\n",
              "    </tr>\n",
              "    <tr>\n",
              "      <th>2</th>\n",
              "      <td>3</td>\n",
              "      <td>Jori</td>\n",
              "      <td>Blockley</td>\n",
              "      <td>jblockley2@unesco.org</td>\n",
              "      <td>191.14</td>\n",
              "      <td>Colorado</td>\n",
              "    </tr>\n",
              "    <tr>\n",
              "      <th>3</th>\n",
              "      <td>4</td>\n",
              "      <td>Garald</td>\n",
              "      <td>Dorian</td>\n",
              "      <td>gdorian3@webeden.co.uk</td>\n",
              "      <td>126.58</td>\n",
              "      <td>Texas</td>\n",
              "    </tr>\n",
              "    <tr>\n",
              "      <th>4</th>\n",
              "      <td>5</td>\n",
              "      <td>Mercy</td>\n",
              "      <td>Pilkington</td>\n",
              "      <td>mpilkington4@jugem.jp</td>\n",
              "      <td>68.32</td>\n",
              "      <td>Florida</td>\n",
              "    </tr>\n",
              "    <tr>\n",
              "      <th>5</th>\n",
              "      <td>6</td>\n",
              "      <td>Elle</td>\n",
              "      <td>McConachie</td>\n",
              "      <td>emcconachie5@census.gov</td>\n",
              "      <td>76.91</td>\n",
              "      <td>Texas</td>\n",
              "    </tr>\n",
              "  </tbody>\n",
              "</table>\n",
              "</div>"
            ],
            "text/plain": [
              "   id first_name   last_name                    email  sales_amount       state\n",
              "1   2      Glynn      Friett        gfriett1@blog.com         12.46  California\n",
              "2   3       Jori    Blockley    jblockley2@unesco.org        191.14    Colorado\n",
              "3   4     Garald      Dorian   gdorian3@webeden.co.uk        126.58       Texas\n",
              "4   5      Mercy  Pilkington    mpilkington4@jugem.jp         68.32     Florida\n",
              "5   6       Elle  McConachie  emcconachie5@census.gov         76.91       Texas"
            ]
          },
          "metadata": {
            "tags": []
          },
          "execution_count": 46
        }
      ]
    },
    {
      "cell_type": "markdown",
      "metadata": {
        "id": "TwOe-usOVUWg",
        "colab_type": "text"
      },
      "source": [
        "If we find the sum of sales_amount in `total_datset` and `redact_datset`, we should see the difference in the sum to be exactly equal to the money spent  (`sales_amount`) by Osbourne Gillions."
      ]
    },
    {
      "cell_type": "code",
      "metadata": {
        "id": "9MhkhR43VUIq",
        "colab_type": "code",
        "colab": {}
      },
      "source": [
        "sum_original_dataset = round(sum(original_dataset['sales_amount'].to_list()), 2)\n",
        "sum_redact_dataset = round(sum(redact_dataset['sales_amount'].to_list()), 2)\n",
        "sales_amount_Osbourne = round((sum_original_dataset - sum_redact_dataset), 2)"
      ],
      "execution_count": 47,
      "outputs": []
    },
    {
      "cell_type": "code",
      "metadata": {
        "id": "ANOPA6sWXA01",
        "colab_type": "code",
        "colab": {}
      },
      "source": [
        "assert sales_amount_Osbourne == original_dataset.iloc[0, 4]"
      ],
      "execution_count": 48,
      "outputs": []
    },
    {
      "cell_type": "markdown",
      "metadata": {
        "id": "Ow-YMPuWXKq2",
        "colab_type": "text"
      },
      "source": [
        "It's quite evident that using the traditional methods, even though if we remove the private information like name and email, we could still infer the identity of the user. \n",
        "\n",
        "Using Differential Privacy, we can solve this! "
      ]
    },
    {
      "cell_type": "code",
      "metadata": {
        "id": "JSc_hccb8TmJ",
        "colab_type": "code",
        "colab": {}
      },
      "source": [
        "# we can set the lower bound as 5 because we know the person has to spend minimum of $5 \n",
        "# while the upper bound as 250 as that's the maximum amount user can spend\n",
        "# Keeping the datatype as float as the data has floating point numbers.\n",
        "# if your data has integer only, you should consider using int as it saves a lot of memory\n",
        "dp_sum_original_dataset = BoundedSum(epsilon= 1.5, lower_bound =  5, upper_bound = 250, dtype ='float') "
      ],
      "execution_count": 49,
      "outputs": []
    },
    {
      "cell_type": "code",
      "metadata": {
        "id": "e16acxES8rnx",
        "colab_type": "code",
        "colab": {}
      },
      "source": [
        "dp_sum_og = dp_sum_original_dataset.quick_result(original_dataset['sales_amount'].to_list()) # adding the data to the DP algorithm"
      ],
      "execution_count": 50,
      "outputs": []
    },
    {
      "cell_type": "code",
      "metadata": {
        "id": "KZVnY76h8yTl",
        "colab_type": "code",
        "colab": {
          "base_uri": "https://localhost:8080/",
          "height": 34
        },
        "outputId": "dfab2d81-4aef-4272-9853-819e3bd4f781"
      },
      "source": [
        "dp_sum_og = round(dp_sum_og, 2)\n",
        "print(dp_sum_og)"
      ],
      "execution_count": 51,
      "outputs": [
        {
          "output_type": "stream",
          "text": [
            "636426.66\n"
          ],
          "name": "stdout"
        }
      ]
    },
    {
      "cell_type": "markdown",
      "metadata": {
        "id": "Uj_TtJFEY2oI",
        "colab_type": "text"
      },
      "source": [
        "#### Taking Sum of data on the Redacted Dataset"
      ]
    },
    {
      "cell_type": "code",
      "metadata": {
        "id": "JNSnzyBw9DU-",
        "colab_type": "code",
        "colab": {}
      },
      "source": [
        "dp_redact_dataset = BoundedSum(epsilon= 1.5, lower_bound =  5, upper_bound = 250, dtype ='float')\n",
        "dp_redact_dataset.add_entries(redact_dataset['sales_amount'].to_list())"
      ],
      "execution_count": 52,
      "outputs": []
    },
    {
      "cell_type": "code",
      "metadata": {
        "id": "_qZsAP5n9hC-",
        "colab_type": "code",
        "colab": {
          "base_uri": "https://localhost:8080/",
          "height": 34
        },
        "outputId": "491a09ce-5a0f-4e33-f9ac-c12035cff522"
      },
      "source": [
        "dp_sum_redact = round(dp_redact_dataset.result(),2)\n",
        "print(dp_sum_redact)"
      ],
      "execution_count": 53,
      "outputs": [
        {
          "output_type": "stream",
          "text": [
            "636737.38\n"
          ],
          "name": "stdout"
        }
      ]
    },
    {
      "cell_type": "code",
      "metadata": {
        "id": "NHYm1tr-9v-0",
        "colab_type": "code",
        "colab": {
          "base_uri": "https://localhost:8080/",
          "height": 51
        },
        "outputId": "75e0fb16-b3a2-4eac-97b0-c235ee8a9111"
      },
      "source": [
        "print(\"Sum of sales_value in the orignal Dataset: {}\".format(sum_original_dataset))\n",
        "print(\"Sum of sales_value in the orignal Dataset using DP: {}\".format(dp_sum_og))\n",
        "assert dp_sum_og != sum_original_dataset"
      ],
      "execution_count": 54,
      "outputs": [
        {
          "output_type": "stream",
          "text": [
            "Sum of sales_value in the orignal Dataset: 636594.59\n",
            "Sum of sales_value in the orignal Dataset using DP: 636426.66\n"
          ],
          "name": "stdout"
        }
      ]
    },
    {
      "cell_type": "code",
      "metadata": {
        "id": "y0ddDw6m9zO_",
        "colab_type": "code",
        "colab": {
          "base_uri": "https://localhost:8080/",
          "height": 51
        },
        "outputId": "d743d7fe-b32a-4be2-e351-3903f0a7106b"
      },
      "source": [
        "print(\"Sum of sales_value in the redacted Dataset: {}\".format(sum_redact_dataset))\n",
        "print(\"Sum of sales_value in the redacted Dataset using DP: {}\".format(dp_sum_redact))\n",
        "assert dp_sum_redact != sum_redact_dataset"
      ],
      "execution_count": 55,
      "outputs": [
        {
          "output_type": "stream",
          "text": [
            "Sum of sales_value in the redacted Dataset: 636562.65\n",
            "Sum of sales_value in the redacted Dataset using DP: 636737.38\n"
          ],
          "name": "stdout"
        }
      ]
    },
    {
      "cell_type": "code",
      "metadata": {
        "id": "jD4WGOMWGlal",
        "colab_type": "code",
        "colab": {
          "base_uri": "https://localhost:8080/",
          "height": 51
        },
        "outputId": "6b11bd3a-ac6a-49ff-e552-e7d2f9fe9fb9"
      },
      "source": [
        "print(\"Difference in sum using DP: {}\".format(round(dp_sum_og - dp_sum_redact, 2)))\n",
        "print(\"Actual Value: {}\".format(sales_amount_Osbourne))\n",
        "assert round(dp_sum_og - dp_sum_redact, 2) != sales_amount_Osbourne\n"
      ],
      "execution_count": 56,
      "outputs": [
        {
          "output_type": "stream",
          "text": [
            "Difference in sum using DP: -310.72\n",
            "Actual Value: 31.94\n"
          ],
          "name": "stdout"
        }
      ]
    },
    {
      "cell_type": "code",
      "metadata": {
        "id": "o598TnDkaB4b",
        "colab_type": "code",
        "colab": {
          "base_uri": "https://localhost:8080/",
          "height": 265
        },
        "outputId": "9cd3b468-94d9-453f-a235-22f144265762"
      },
      "source": [
        "take_diff = 635000\n",
        "top=[('Sum OG', sum_redact_dataset - take_diff),('DP SUM OG',dp_sum_og- take_diff),('Redact Sum',sum_redact_dataset- take_diff), ('Redact DP Sum',dp_sum_redact - take_diff)]\n",
        "\n",
        "labels, ys = zip(*top)\n",
        "xs = np.arange(len(labels)) \n",
        "width = 0.3\n",
        "\n",
        "plt.bar(xs, ys, width, align='center')\n",
        "\n",
        "plt.xticks(xs, labels)\n",
        "plt.yticks(ys)\n",
        "plt.show()\n"
      ],
      "execution_count": 57,
      "outputs": [
        {
          "output_type": "display_data",
          "data": {
            "image/png": "[encoded data removed]",
            "text/plain": [
              "<Figure size 432x288 with 1 Axes>"
            ]
          },
          "metadata": {
            "tags": [],
            "needs_background": "light"
          }
        }
      ]
    },
    {
      "cell_type": "markdown",
      "metadata": {
        "id": "doQI5qjuCYrT",
        "colab_type": "text"
      },
      "source": [
        "### Conclusion:\n",
        "We have demonstrated that using DP, we can protect the data from the MIA attack. \n",
        "Also, as it's clearly visible, if we remove one row from our dataset, our results do not vary a lot."
      ]
    }
  ]
}