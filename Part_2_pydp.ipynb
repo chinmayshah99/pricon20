{
  "nbformat": 4,
  "nbformat_minor": 0,
  "metadata": {
    "colab": {
      "name": "Part 2: pydp.ipynb",
      "provenance": []
    },
    "kernelspec": {
      "name": "python3",
      "display_name": "Python 3"
    }
  },
  "cells": [
    {
      "cell_type": "markdown",
      "metadata": {
        "id": "YG1uS29Y2P9T"
      },
      "source": [
        "## Part 2: The Restaurnts Demo\n",
        "\n",
        "### About PyDP\n",
        "The PyDP package provides access to Differential Privacy algorithms in Python. This example uses the 1.0 version of the package that has the following limitations:\n",
        "\n",
        "1. This version only supports [Google's Differential Privacy library](https://github.com/google/differential-privacy).\n",
        "2. Laplace noise generation technique.\n",
        "3. Supports only integer and floating point values"
      ]
    },
    {
      "cell_type": "markdown",
      "metadata": {
        "id": "NNJbt4PVWgWQ"
      },
      "source": [
        "### What's in this Tutorial\n",
        "Aim to display all the functionlity of PyDP using a psudo real-world example.\n",
        "\n",
        "We take a fictional case of a restaurant owned by Alice which has been asked to prepare some statisitcs by the investors and also wants to share the same with their advvertisment partner. But while doing that, Alice knows about hyper-targeting of ads that's being done today and wants to avoid this (since the advertiser also has some credit card data too).\n",
        "\n",
        "She releases two statisitcs:\n",
        "1. Count of people who come during each day of week\n",
        "2. Revenue on each day of business. \n"
      ]
    },
    {
      "cell_type": "code",
      "metadata": {
        "id": "gnKmqAi52M1H",
        "outputId": "a02d9089-321a-4f6c-f529-4cb903eb57cc",
        "colab": {
          "base_uri": "https://localhost:8080/",
          "height": 34
        }
      },
      "source": [
        "! pip install python-dp"
      ],
      "execution_count": 20,
      "outputs": [
        {
          "output_type": "stream",
          "text": [
            "Requirement already satisfied: python-dp in /usr/local/lib/python3.6/dist-packages (1.0.0)\n"
          ],
          "name": "stdout"
        }
      ]
    },
    {
      "cell_type": "code",
      "metadata": {
        "id": "fzFylK4w2c49"
      },
      "source": [
        "import pydp as dp\n",
        "from pydp.algorithms.laplacian import BoundedSum, Count"
      ],
      "execution_count": 21,
      "outputs": []
    },
    {
      "cell_type": "code",
      "metadata": {
        "id": "LTJchXBx2jVd"
      },
      "source": [
        "import math\n",
        "import statistics as s\n",
        "import pandas as pd\n",
        "from collections import defaultdict, OrderedDict\n",
        "import matplotlib.pyplot as plt\n",
        "import numpy as np"
      ],
      "execution_count": 22,
      "outputs": []
    },
    {
      "cell_type": "markdown",
      "metadata": {
        "id": "f0I8ZOlZ2jKA"
      },
      "source": [
        "#### Some basic assumptions"
      ]
    },
    {
      "cell_type": "code",
      "metadata": {
        "id": "mTthZ0EC2msi"
      },
      "source": [
        "# Time when visitors start entering the restaurant (900 represents 9:00 AM)\n",
        "OPENING_HOUR = 900\n",
        "\n",
        "# Time when visitors finish entering the restaurant (2000 represents 20:00 PM)\n",
        "CLOSING_HOUR = 2000\n",
        "\n",
        "# A python list of valid work hours when visitors can come to the restaurant.\n",
        "VALID_HOURS = list(range(OPENING_HOUR, CLOSING_HOUR + 1))\n",
        "\n",
        "# Cap the maximum number of visiting days at 3 per each visitor (any number above will not be taken into account)\n",
        "COUNT_MAX_CONTRIBUTED_DAYS = 4\n",
        "\n",
        "# Cap the maximum number of visiting days at 4 per each visitor (any number above will not be taken into account)\n",
        "SUM_MAX_CONTRIBUTED_DAYS = 4\n",
        "\n",
        "# Expected minimum amount of money (in Euros) to be spent by a visitor per a single visit\n",
        "MIN_EUROS_SPENT = 0\n",
        "\n",
        "# Expected maximum amount of money (in Euros) to be spent by a visitor per a single visit\n",
        "MAX_EUROS_SPENT_1 = 50\n",
        "MAX_EUROS_SPENT_2 = 65\n",
        "\n",
        "_epsilon = math.log(3)"
      ],
      "execution_count": 23,
      "outputs": []
    },
    {
      "cell_type": "markdown",
      "metadata": {
        "id": "sJGTOtBhGfgh"
      },
      "source": [
        "### Loading the data"
      ]
    },
    {
      "cell_type": "code",
      "metadata": {
        "id": "URYAhs9_4bb9",
        "outputId": "7cbcc79a-eee2-4c19-edca-28e28916844c",
        "colab": {
          "base_uri": "https://localhost:8080/",
          "height": 204
        }
      },
      "source": [
        "# Loading the dataset\n",
        "_day_visits = pd.read_csv('https://raw.githubusercontent.com/OpenMined/PyDP/dev/examples/Tutorial_2-restaurant_demo/week_data.csv', sep=\",\")\n",
        "_day_visits.head()"
      ],
      "execution_count": 24,
      "outputs": [
        {
          "output_type": "execute_result",
          "data": {
            "text/html": [
              "<div>\n",
              "<style scoped>\n",
              "    .dataframe tbody tr th:only-of-type {\n",
              "        vertical-align: middle;\n",
              "    }\n",
              "\n",
              "    .dataframe tbody tr th {\n",
              "        vertical-align: top;\n",
              "    }\n",
              "\n",
              "    .dataframe thead th {\n",
              "        text-align: right;\n",
              "    }\n",
              "</style>\n",
              "<table border=\"1\" class=\"dataframe\">\n",
              "  <thead>\n",
              "    <tr style=\"text-align: right;\">\n",
              "      <th></th>\n",
              "      <th>VisitorId</th>\n",
              "      <th>Time entered</th>\n",
              "      <th>Time spent (minutes)</th>\n",
              "      <th>Money spent (euros)</th>\n",
              "      <th>Day</th>\n",
              "    </tr>\n",
              "  </thead>\n",
              "  <tbody>\n",
              "    <tr>\n",
              "      <th>0</th>\n",
              "      <td>580</td>\n",
              "      <td>9:27:00 AM</td>\n",
              "      <td>29</td>\n",
              "      <td>17</td>\n",
              "      <td>1</td>\n",
              "    </tr>\n",
              "    <tr>\n",
              "      <th>1</th>\n",
              "      <td>1215</td>\n",
              "      <td>9:16:00 AM</td>\n",
              "      <td>45</td>\n",
              "      <td>18</td>\n",
              "      <td>1</td>\n",
              "    </tr>\n",
              "    <tr>\n",
              "      <th>2</th>\n",
              "      <td>448</td>\n",
              "      <td>11:55:00 AM</td>\n",
              "      <td>12</td>\n",
              "      <td>16</td>\n",
              "      <td>1</td>\n",
              "    </tr>\n",
              "    <tr>\n",
              "      <th>3</th>\n",
              "      <td>125</td>\n",
              "      <td>10:47:00 AM</td>\n",
              "      <td>27</td>\n",
              "      <td>20</td>\n",
              "      <td>1</td>\n",
              "    </tr>\n",
              "    <tr>\n",
              "      <th>4</th>\n",
              "      <td>484</td>\n",
              "      <td>11:08:00 AM</td>\n",
              "      <td>35</td>\n",
              "      <td>13</td>\n",
              "      <td>1</td>\n",
              "    </tr>\n",
              "  </tbody>\n",
              "</table>\n",
              "</div>"
            ],
            "text/plain": [
              "   VisitorId Time entered  Time spent (minutes)  Money spent (euros)  Day\n",
              "0        580   9:27:00 AM                    29                   17    1\n",
              "1       1215   9:16:00 AM                    45                   18    1\n",
              "2        448  11:55:00 AM                    12                   16    1\n",
              "3        125  10:47:00 AM                    27                   20    1\n",
              "4        484  11:08:00 AM                    35                   13    1"
            ]
          },
          "metadata": {
            "tags": []
          },
          "execution_count": 24
        }
      ]
    },
    {
      "cell_type": "markdown",
      "metadata": {
        "id": "8_0z1XZpGnUM"
      },
      "source": [
        "### The concept of l0 and linf sensitivity \n",
        "\n",
        "- l0 sensitivity: Numer of times a unique user identificaition can contribute to different partitions.\n",
        "\n",
        "- linf sensitivity: Number of times a uuid appears in a partition.\n",
        "\n",
        "#### Why are we doing this?\n",
        "Utility function to aggregate linf sensitivity in this case."
      ]
    },
    {
      "cell_type": "code",
      "metadata": {
        "id": "uke2Xbeq2-5k"
      },
      "source": [
        "# Note: PyDP expects that when you set l0 and linf sensitivity,\n",
        "# your data actually adhers to these limits you set\n",
        "def bound_visits_per_week(df, limit):\n",
        "    \"\"\"Utility function to modify the input dataframes. \n",
        "    \n",
        "    Makes sure that each visitor only contributes at most 3 visits per week,\n",
        "    Returns an updated dataframe \n",
        "    \"\"\"\n",
        "\n",
        "    # Shuffle dataframe\n",
        "    df = df.sample(frac=1)\n",
        "\n",
        "    # Store results in new dataframe\n",
        "    updated_df = pd.DataFrame(columns=df.columns)\n",
        "    df_idx = 0\n",
        "\n",
        "    # Keep track of visits per visitor and make sure it doesn't go above the limit\n",
        "    # {visitor id: # of times it has visited the restaurant}\n",
        "    id_to_visited = defaultdict(int)\n",
        "\n",
        "    for index in df.index:\n",
        "        if id_to_visited[df.loc[index][\"VisitorId\"]] < limit:\n",
        "            updated_df.loc[df_idx] = df.loc[index]\n",
        "            df_idx += 1\n",
        "            id_to_visited[df.loc[index][\"VisitorId\"]] += 1\n",
        "\n",
        "    return updated_df"
      ],
      "execution_count": 25,
      "outputs": []
    },
    {
      "cell_type": "markdown",
      "metadata": {
        "id": "cKUAGwWET3-t"
      },
      "source": [
        "### Count customers in a week\n",
        "Get Count of how many times customer vist on each day of a week"
      ]
    },
    {
      "cell_type": "code",
      "metadata": {
        "id": "oNgUaxCg3JXO"
      },
      "source": [
        "def get_non_private_counts_per_day() -> dict:\n",
        "        \"\"\"Compute the number of visits per day without any differential privacy. \n",
        "        \n",
        "        Return a dictionary mapping days to number of visits\n",
        "        \"\"\"\n",
        "        day_counts = dict()\n",
        "\n",
        "        for day in _day_visits[\"Day\"].unique():\n",
        "            day_counts[day] = _day_visits[_day_visits[\"Day\"] == day][\n",
        "                \"Day\"\n",
        "            ].count()\n",
        "\n",
        "        return day_counts    "
      ],
      "execution_count": 26,
      "outputs": []
    },
    {
      "cell_type": "code",
      "metadata": {
        "id": "bt960IU73QVY"
      },
      "source": [
        "def get_private_counts_per_day(epsilon: float = _epsilon) -> dict:\n",
        "        \"\"\"Compute an anonymized (within a given threshold of epsilon) version of the number of visits per day. \n",
        "        \n",
        "        Return a dictionary mapping days to number of visits\n",
        "        \"\"\"\n",
        "        # Pre-process the data set: limit the number of days contributed by a visitor to COUNT_MAX_CONTRIBUTED_DAYS\n",
        "        day_visits = bound_visits_per_week(_day_visits, COUNT_MAX_CONTRIBUTED_DAYS)\n",
        "\n",
        "        day_counts = dict()\n",
        "\n",
        " \n",
        "        x = Count(\n",
        "            epsilon=_epsilon, l0_sensitivity=COUNT_MAX_CONTRIBUTED_DAYS, dtype=\"int\"\n",
        "        )\n",
        "\n",
        "        # Note: we are using up all epilon for the calculation\n",
        "        for day in day_visits[\"Day\"].unique():\n",
        "            # Can use either quick_result or a combination of add_entries() and result()\n",
        "            day_counts[day] = x.quick_result(\n",
        "                data=list(day_visits[day_visits[\"Day\"] == day][\"Day\"])\n",
        "            )\n",
        "\n",
        "        return day_counts\n",
        "\n",
        "    "
      ],
      "execution_count": 27,
      "outputs": []
    },
    {
      "cell_type": "code",
      "metadata": {
        "id": "tBQo0KNnJ_8w"
      },
      "source": [
        "def count_visits_per_day() -> tuple:\n",
        "        \"\"\"Compute the number of visits per hour of day and return two dictionaries \n",
        "        that map a day to the number of visits in that day. \n",
        "        \n",
        "        The first dictionary is the count calculation without any differential privacy, \n",
        "        The second one uses the PyDP library for a private calculation\n",
        "        \"\"\"\n",
        "        non_private_counts = get_non_private_counts_per_day()\n",
        "        private_counts = get_private_counts_per_day()\n",
        "\n",
        "        return non_private_counts, private_counts"
      ],
      "execution_count": 28,
      "outputs": []
    },
    {
      "cell_type": "code",
      "metadata": {
        "id": "MbwrRVF0KBmf",
        "outputId": "0f2edb48-ff26-4b73-fa16-b7ddc6e1e403",
        "colab": {
          "base_uri": "https://localhost:8080/",
          "height": 68
        }
      },
      "source": [
        "np_count_day, p_count_day, np_count_data_p = count_visits_per_day()\n",
        "np_count_day = OrderedDict(sorted(np_count_day.items()))\n",
        "p_count_day = OrderedDict(sorted(p_count_day.items()))\n",
        "\n",
        "print(\"Visits per day:\")\n",
        "print(\"Without differential privacy:\", np_count_day)\n",
        "print(\"With differential privacy:\", p_count_day)"
      ],
      "execution_count": 29,
      "outputs": [
        {
          "output_type": "stream",
          "text": [
            "Visits per day:\n",
            "Without differential privacy: OrderedDict([(1, 300), (2, 300), (3, 400), (4, 400), (5, 450), (6, 500), (7, 500)])\n",
            "With differential privacy: OrderedDict([(1, 299), (2, 287), (3, 384), (4, 408), (5, 441), (6, 497), (7, 502)])\n"
          ],
          "name": "stdout"
        }
      ]
    },
    {
      "cell_type": "code",
      "metadata": {
        "id": "SQqooX4EKJmc",
        "outputId": "49adb391-dfe5-4b46-faff-8f8ea8d80497",
        "colab": {
          "base_uri": "https://localhost:8080/",
          "height": 299
        }
      },
      "source": [
        "ax = plt.subplot(111)\n",
        "X = np.arange(len(np_count_day.keys()))\n",
        "width = 0.35  # the width of the bars\n",
        "\n",
        "ax.bar(X-width/2, np_count_day.values(), width=width, color='b', align='center')\n",
        "ax.bar(X+width/2, p_count_day.values(), width=width, color='g', align='center')\n",
        "ax.legend(('Without DP','With DP'))\n",
        "ax.set_ylabel('Count')\n",
        "ax.set_xlabel('Day of week')\n",
        "plt.xticks(X, np_count_day.keys())\n",
        "plt.title(\"Vistor count throughout the week\", fontsize=17)\n",
        "plt.show()"
      ],
      "execution_count": 30,
      "outputs": [
        {
          "output_type": "display_data",
          "data": {
            "image/png": "[encoded data removed]",
            "text/plain": [
              "<Figure size 432x288 with 1 Axes>"
            ]
          },
          "metadata": {
            "tags": [],
            "needs_background": "light"
          }
        }
      ]
    },
    {
      "cell_type": "markdown",
      "metadata": {
        "id": "UJM-tZZdQurx"
      },
      "source": [
        "### Revenue on each day of the week"
      ]
    },
    {
      "cell_type": "code",
      "metadata": {
        "id": "hnobFxZ53Rz1"
      },
      "source": [
        "def get_non_private_sum_revenue() -> dict:\n",
        "        \"\"\"Compute the revenue per day of visits without any differential privacy. \n",
        "        \n",
        "        Return a dictionary mapping days to revenue\n",
        "        \"\"\"\n",
        "        day_revenue = dict()\n",
        "\n",
        "        for day in _day_visits[\"Day\"].unique():\n",
        "            day_revenue[day] = _day_visits[_day_visits[\"Day\"] == day][\n",
        "                \"Money spent (euros)\"\n",
        "            ].sum()\n",
        "\n",
        "        return day_revenue"
      ],
      "execution_count": 31,
      "outputs": []
    },
    {
      "cell_type": "code",
      "metadata": {
        "id": "jJmlnhtI3TSj"
      },
      "source": [
        "def get_private_sum_revenue(epsilon: float = _epsilon) -> dict:\n",
        "        \"\"\"Compute an anonymized (within a given threshold of epsilon) version of the revenue per day. Return a dictionary mapping days to revenue\"\"\"\n",
        "        # Pre-process the data set: limit the number of days contributed by a visitor to SUM_MAX_CONTRIBUTED_DAYS\n",
        "        day_visits = bound_visits_per_week(_day_visits, SUM_MAX_CONTRIBUTED_DAYS)\n",
        "\n",
        "        day_revenue = dict()\n",
        "\n",
        "        x = BoundedSum(\n",
        "            epsilon,\n",
        "            MIN_EUROS_SPENT,\n",
        "            MAX_EUROS_SPENT_1,\n",
        "            l0_sensitivity=SUM_MAX_CONTRIBUTED_DAYS,\n",
        "        )\n",
        "\n",
        "        for day in day_visits[\"Day\"].unique():\n",
        "\n",
        "            x.reset()\n",
        "            # Can use either quick_result or a combination of add_entries() and result()\n",
        "            x.add_entries(\n",
        "                data=list(day_visits[day_visits[\"Day\"] == day][\"Money spent (euros)\"])\n",
        "            )\n",
        "            day_revenue[day] = int(x.result())\n",
        "\n",
        "        return day_revenue\n"
      ],
      "execution_count": 32,
      "outputs": []
    },
    {
      "cell_type": "code",
      "metadata": {
        "id": "CsozHyI8PU6g"
      },
      "source": [
        "def sum_revenue_per_day() -> tuple:\n",
        "        \"\"\"Compute the restaurant's daily revenue for the whole week.  \n",
        "        \n",
        "        The first dictionary is the count calculation without any differential privacy, \n",
        "        while the second one uses the PyDP library for a private calculation\n",
        "        \"\"\"\n",
        "        non_private_sum = get_non_private_sum_revenue()\n",
        "        private_sum = get_private_sum_revenue()\n",
        "\n",
        "        return non_private_sum, private_sum\n"
      ],
      "execution_count": 33,
      "outputs": []
    },
    {
      "cell_type": "code",
      "metadata": {
        "id": "DCFesxQZQVp2",
        "outputId": "f07b615b-eb24-41cd-dc31-382661ca567f",
        "colab": {
          "base_uri": "https://localhost:8080/",
          "height": 85
        }
      },
      "source": [
        "\n",
        "np_sum_day, p_sum_day = sum_revenue_per_day()\n",
        "np_sum_day = OrderedDict(sorted(np_sum_day.items()))\n",
        "p_sum_day = OrderedDict(sorted(p_sum_day.items()))\n",
        "print(\"Revenue per day:\")\n",
        "print(\"Without differential privacy:\", np_sum_day)\n",
        "print(\"With differential privacy:\", p_sum_day)\n",
        "print(\"-----------------------------------\")"
      ],
      "execution_count": 34,
      "outputs": [
        {
          "output_type": "stream",
          "text": [
            "Revenue per day:\n",
            "Without differential privacy: OrderedDict([(1, 8678), (2, 8696), (3, 12088), (4, 12079), (5, 13765), (6, 16576), (7, 16500)])\n",
            "With differential privacy: OrderedDict([(1, 8478), (2, 8234), (3, 12017), (4, 11539), (5, 13676), (6, 16225), (7, 16301)])\n",
            "-----------------------------------\n"
          ],
          "name": "stdout"
        }
      ]
    },
    {
      "cell_type": "code",
      "metadata": {
        "id": "bWXPjoC7QYF7",
        "outputId": "678a3c17-7d8f-4045-84eb-3ca86f3626da",
        "colab": {
          "base_uri": "https://localhost:8080/",
          "height": 299
        }
      },
      "source": [
        "ax = plt.subplot(111)\n",
        "X = np.arange(len(np_sum_day.keys()))\n",
        "width = 0.35  # the width of the bars\n",
        "ax.bar(X-width/2, np_sum_day.values(), width=width, color='b', align='center')\n",
        "ax.bar(X+width/2, p_sum_day.values(), width=width, color='g', align='center')\n",
        "ax.legend(('Without DP','With DP'))\n",
        "ax.set_ylabel('Revenue')\n",
        "ax.set_xlabel('Day of week')\n",
        "plt.xticks(X, np_sum_day.keys())\n",
        "plt.title(\"Revenue throughout the week\", fontsize=17)\n",
        "plt.show()"
      ],
      "execution_count": 35,
      "outputs": [
        {
          "output_type": "display_data",
          "data": {
            "image/png": "[encoded data removed]",
            "text/plain": [
              "<Figure size 432x288 with 1 Axes>"
            ]
          },
          "metadata": {
            "tags": [],
            "needs_background": "light"
          }
        }
      ]
    },
    {
      "cell_type": "markdown",
      "metadata": {
        "id": "9EyitDi1Qzw_"
      },
      "source": [
        "In the previous calculation, we assumed that each customer just visits once a week and did the calculation accordingly.\n",
        "But sometimes, they visit more than once a week, and hence we need to add a bit more noise for same. \n",
        "\n",
        "\n",
        "\n",
        "\n",
        "A visitor typically enters the restaurant twice a day and pays 10 euros for breakfast and 50 euros for dinner. The lower and upper bounds should be set to 10 and 50 while maxContributionsPerPartitions equals 2. If we let the library calculate the sensitivity of sum (i.e., how much a single visitor can impact the final result), this will result in sensitivity of 100 while the actual sensitivity is 60 (the higher the sensitivity is - the more noise is added). In such a case, it makes sense to pre-aggregate all visits, and provide a single contribution with adjusted lower and upper bounds (in our example, sum-up 10 and 50 and set the upper bound to 60).\n"
      ]
    },
    {
      "cell_type": "code",
      "metadata": {
        "id": "yA8oqcIM3WKP"
      },
      "source": [
        "def get_private_sum_revenue_with_preaggregation(\n",
        "        epsilon: float = _epsilon\n",
        "    ) -> dict:\n",
        "        \"\"\"Compute an anonymized (within a given threshold of epsilon) version of the revenue per day. \n",
        "        \n",
        "        Before performing the computation, \n",
        "        we pre-aggregate each visitor' spending for the day. Return a dictionary mapping days to revenue\n",
        "        \"\"\"\n",
        "\n",
        "        # Pre-process the data set: limit the number of days contributed by a visitor to SUM_MAX_CONTRIBUTED_DAYS\n",
        "        day_visits = bound_visits_per_week(_day_visits, SUM_MAX_CONTRIBUTED_DAYS)\n",
        "\n",
        "        day_revenue = dict()\n",
        "\n",
        "\n",
        "        x = BoundedSum(\n",
        "            epsilon,\n",
        "            MIN_EUROS_SPENT,\n",
        "            MAX_EUROS_SPENT_2,\n",
        "            l0_sensitivity=SUM_MAX_CONTRIBUTED_DAYS,\n",
        "        )\n",
        "\n",
        "        for day in day_visits[\"Day\"].unique():\n",
        "            # For each visitor, pre-aggregate their spending for the day.\n",
        "            visits_on_day = day_visits[day_visits[\"Day\"] == day][\n",
        "                [\"VisitorId\", \"Money spent (euros)\"]\n",
        "            ]\n",
        "            visitor_to_spending = dict()\n",
        "\n",
        "            for visitor in visits_on_day[\"VisitorId\"].unique():\n",
        "                visitor_to_spending[visitor] = visits_on_day[\n",
        "                    visits_on_day[\"VisitorId\"] == visitor\n",
        "                ][\"Money spent (euros)\"].sum()\n",
        "\n",
        "            spending = list(visitor_to_spending.values())\n",
        "\n",
        "            x.reset()\n",
        "            # Can use either quick_result or a combination of add_entries() and result()\n",
        "            x.add_entries(data=spending)\n",
        "            day_revenue[day] = int(x.result())\n",
        "\n",
        "        return day_revenue\n",
        "\n",
        "\n"
      ],
      "execution_count": 36,
      "outputs": []
    },
    {
      "cell_type": "code",
      "metadata": {
        "id": "I24Cigop3X_A"
      },
      "source": [
        "def sum_revenue_per_day_with_preaggregation() -> tuple:\n",
        "        \"\"\"Calculates the restaurant's daily revenue for the whole week, while\n",
        "        pre-agreggating each visitor's spending before calculating the\n",
        "        BoundedSum with PyDP.\n",
        "        \n",
        "        The first dictionary is the count calculation without any differential privacy, \n",
        "        while the second one uses the PyDP library for a private calculation\n",
        "        \"\"\"\n",
        "        non_private_sum = get_non_private_sum_revenue()\n",
        "        private_sum = get_private_sum_revenue_with_preaggregation()\n",
        "\n",
        "        return non_private_sum, private_sum"
      ],
      "execution_count": 37,
      "outputs": []
    },
    {
      "cell_type": "code",
      "metadata": {
        "id": "kCIVk1443_bI",
        "outputId": "4e5e4132-816c-4d35-dba6-24856f4efdf4",
        "colab": {
          "base_uri": "https://localhost:8080/",
          "height": 85
        }
      },
      "source": [
        "np_sum_day_pa, p_sum_day_pa = sum_revenue_per_day_with_preaggregation()\n",
        "np_sum_day_pa = OrderedDict(sorted(np_sum_day_pa.items()))\n",
        "p_sum_day_pa = OrderedDict(sorted(p_sum_day_pa.items()))\n",
        "print(\"Revenue per day with preaggregation:\")\n",
        "print(\"Without differential privacy:\", np_sum_day_pa)\n",
        "print(\"With differential privacy:\", p_sum_day_pa)\n",
        "print(\"-----------------------------------\")"
      ],
      "execution_count": 38,
      "outputs": [
        {
          "output_type": "stream",
          "text": [
            "Revenue per day with preaggregation:\n",
            "Without differential privacy: OrderedDict([(1, 8678), (2, 8696), (3, 12088), (4, 12079), (5, 13765), (6, 16576), (7, 16500)])\n",
            "With differential privacy: OrderedDict([(1, 8716), (2, 8826), (3, 12132), (4, 11797), (5, 14105), (6, 16437), (7, 16362)])\n",
            "-----------------------------------\n"
          ],
          "name": "stdout"
        }
      ]
    },
    {
      "cell_type": "code",
      "metadata": {
        "id": "TpXetL4_TBid",
        "outputId": "5b4a85b0-357f-4b04-bd6b-56971f1a7d50",
        "colab": {
          "base_uri": "https://localhost:8080/",
          "height": 299
        }
      },
      "source": [
        "ax = plt.subplot(111)\n",
        "X = np.arange(len(np_sum_day_pa.keys()))\n",
        "width = 0.35  # the width of the bars\n",
        "\n",
        "ax.bar(X-width/2, np_sum_day_pa.values(), width=width, color='b', align='center')\n",
        "ax.bar(X+width/2, p_sum_day_pa.values(), width=width, color='g', align='center')\n",
        "ax.legend(('Without DP','With DP'))\n",
        "ax.set_ylabel('Revenue')\n",
        "ax.set_xlabel('Day of week')\n",
        "plt.xticks(X, np_sum_day_pa.keys())\n",
        "plt.title(\"Revenue with non-unique customer\", fontsize=17)\n",
        "plt.show()"
      ],
      "execution_count": 39,
      "outputs": [
        {
          "output_type": "display_data",
          "data": {
            "image/png": "[encoded data removed]",
            "text/plain": [
              "<Figure size 432x288 with 1 Axes>"
            ]
          },
          "metadata": {
            "tags": [],
            "needs_background": "light"
          }
        }
      ]
    },
    {
      "cell_type": "markdown",
      "metadata": {
        "id": "RxhWSyRPB6_q"
      },
      "source": [
        "Further Readging: \n",
        "1. How did we calculate l0 and linf sensitivity Bounded functions: [Differentially Private SQL with Bounded User Contribution](https://arxiv.org/pdf/1909.01917.pdf)\n",
        "2. [Restaurants Demo by Google](https://github.com/google/differential-privacy/tree/main/examples/java)"
      ]
    }
  ]
}