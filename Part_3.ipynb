{
  "nbformat": 4,
  "nbformat_minor": 0,
  "metadata": {
    "colab": {
      "name": "Part 3.ipynb",
      "provenance": []
    },
    "kernelspec": {
      "name": "python3",
      "display_name": "Python 3"
    }
  },
  "cells": [
    {
      "cell_type": "markdown",
      "metadata": {
        "id": "N8s8-wKjxtQA"
      },
      "source": [
        "**bold text**## Part 3: Sneak peak into What's next\n",
        "\n",
        "### About PyDP\n",
        "The PyDP package provides access to Differential Privacy algorithms in Python. This example uses the 1.0 version of the package that has the following limitations:\n",
        "\n",
        "1. This version only supports [Google's Differential Privacy library](https://github.com/google/differential-privacy).\n",
        "2. Laplace noise generation technique.\n",
        "3. Supports only integer and floating point values"
      ]
    },
    {
      "cell_type": "markdown",
      "metadata": {
        "id": "4jVg5GV6OhVX"
      },
      "source": [
        "### What's in this Tutorial\n",
        "To demonstrate what's new in PyDP; and how we can use it in a distributed system."
      ]
    },
    {
      "cell_type": "code",
      "metadata": {
        "id": "wCWzGstiw7Y9",
        "outputId": "74d88c76-587d-43b6-b255-5554306db7c3",
        "colab": {
          "base_uri": "https://localhost:8080/",
          "height": 34
        }
      },
      "source": [
        "!pip install python-dp # installing PyDP"
      ],
      "execution_count": 36,
      "outputs": [
        {
          "output_type": "stream",
          "text": [
            "Requirement already satisfied: python-dp in /usr/local/lib/python3.6/dist-packages (1.0.0)\n"
          ],
          "name": "stdout"
        }
      ]
    },
    {
      "cell_type": "code",
      "metadata": {
        "id": "3c-nVwj9w-VW"
      },
      "source": [
        "import pydp as dp # by convention our package is to be imported as dp (for Differential Privacy!)\n",
        "from pydp.algorithms.laplacian import BoundedSum, BoundedMean, Count, Max\n",
        "import pandas as pd\n",
        "import statistics # for calculating mean without applying differential privacy\n"
      ],
      "execution_count": 37,
      "outputs": []
    },
    {
      "cell_type": "markdown",
      "metadata": {
        "id": "f_tO7QHYUWnq"
      },
      "source": [
        "### Fetching the Data and loading it! "
      ]
    },
    {
      "cell_type": "code",
      "metadata": {
        "id": "fCPFolUByhhf"
      },
      "source": [
        "# get carrots data from our public github repo\n",
        "url1 = 'https://raw.githubusercontent.com/OpenMined/PyDP/dev/examples/Tutorial%204-Launch_demo/data/01.csv'\n",
        "df1 = pd.read_csv(url1,sep=\",\", engine = \"python\")"
      ],
      "execution_count": 38,
      "outputs": []
    },
    {
      "cell_type": "code",
      "metadata": {
        "id": "MVoAz3pu0PuT"
      },
      "source": [
        "url2 = 'https://raw.githubusercontent.com/OpenMined/PyDP/dev/examples/Tutorial%204-Launch_demo/data/02.csv'\n",
        "df2 = pd.read_csv(url2,sep=\",\", engine = \"python\")"
      ],
      "execution_count": 39,
      "outputs": []
    },
    {
      "cell_type": "code",
      "metadata": {
        "id": "Hc_8FNF80i66"
      },
      "source": [
        "url3 = 'https://raw.githubusercontent.com/OpenMined/PyDP/dev/examples/Tutorial%204-Launch_demo/data/03.csv'\n",
        "df3 = pd.read_csv(url3,sep=\",\", engine = \"python\")"
      ],
      "execution_count": 40,
      "outputs": []
    },
    {
      "cell_type": "code",
      "metadata": {
        "id": "C8yXyul36wbg"
      },
      "source": [
        "url4 = 'https://raw.githubusercontent.com/OpenMined/PyDP/dev/examples/Tutorial%204-Launch_demo/data/04.csv'\n",
        "df4 = pd.read_csv(url4,sep=\",\", engine = \"python\")"
      ],
      "execution_count": 41,
      "outputs": []
    },
    {
      "cell_type": "code",
      "metadata": {
        "id": "Eqxex9M662W-"
      },
      "source": [
        "url5 = 'https://raw.githubusercontent.com/OpenMined/PyDP/dev/examples/Tutorial%204-Launch_demo/data/05.csv'\n",
        "df5 = pd.read_csv(url5,sep=\",\", engine = \"python\")"
      ],
      "execution_count": 42,
      "outputs": []
    },
    {
      "cell_type": "markdown",
      "metadata": {
        "id": "gVJZiHU7Ufob"
      },
      "source": [
        "#### Combining the whole data into one single dataframe. "
      ]
    },
    {
      "cell_type": "code",
      "metadata": {
        "id": "31B6M3TZ66jz"
      },
      "source": [
        "combined_df_temp = [df1, df2, df3, df4, df5]\n",
        "original_dataset = pd.concat(combined_df_temp)"
      ],
      "execution_count": 43,
      "outputs": []
    },
    {
      "cell_type": "markdown",
      "metadata": {
        "id": "7RIyfnaUUuvT"
      },
      "source": [
        "The size of the combined dataset: "
      ]
    },
    {
      "cell_type": "code",
      "metadata": {
        "id": "SQNbf4ym7Kmd",
        "outputId": "2df6ef93-3e3a-4993-bf2c-a3ef7005e8df",
        "colab": {
          "base_uri": "https://localhost:8080/",
          "height": 34
        }
      },
      "source": [
        "original_dataset.shape"
      ],
      "execution_count": 44,
      "outputs": [
        {
          "output_type": "execute_result",
          "data": {
            "text/plain": [
              "(5000, 6)"
            ]
          },
          "metadata": {
            "tags": []
          },
          "execution_count": 44
        }
      ]
    },
    {
      "cell_type": "code",
      "metadata": {
        "id": "p2yQtdYuOwrK"
      },
      "source": [
        "sum_original_dataset = round(sum(original_dataset['sales_amount'].to_list()), 2)\n",
        "dp_sum_og =  round(BoundedSum(epsilon= 1, lower_bound =  5, upper_bound = 250, dtype ='float').quick_result(original_dataset['sales_amount'].to_list()), 2)"
      ],
      "execution_count": 45,
      "outputs": []
    },
    {
      "cell_type": "markdown",
      "metadata": {
        "id": "rvrj0Et1aifE"
      },
      "source": [
        "#### Quering on the Partial\n",
        "\n",
        "Consider a case when you are obtaining a stream of data from the Distributed database, and you want to give a partial result as and when you receive the data. \n",
        "The more stream of data you get, you get a better picture of what's there, but in this condition you have to give results as and when a new stream of data arrives. \n",
        "\n"
      ]
    },
    {
      "cell_type": "markdown",
      "metadata": {
        "id": "dmkMSWxHcaDV"
      },
      "source": [
        "To achieve this, PyDP provides an option of using your partial privacy_budget. \n",
        "\n"
      ]
    },
    {
      "cell_type": "code",
      "metadata": {
        "id": "2ELfiZnycYZ6"
      },
      "source": [
        "partial_dp_obj = BoundedSum(epsilon= 1, lower_bound =  5, upper_bound = 250, dtype ='float')"
      ],
      "execution_count": 46,
      "outputs": []
    },
    {
      "cell_type": "markdown",
      "metadata": {
        "id": "86i5EZxRie7K"
      },
      "source": [
        "Combining first 3000 records in stream and then the other 2000 records."
      ]
    },
    {
      "cell_type": "code",
      "metadata": {
        "id": "GTBkYQhJikXe",
        "outputId": "6c375bf7-f6b2-402a-c274-d0e7f9ed25f1",
        "colab": {
          "base_uri": "https://localhost:8080/",
          "height": 34
        }
      },
      "source": [
        "new_df_1 = pd.concat([df1, df2, df3])\n",
        "new_df_2 = pd.concat([df4, df5])\n",
        "print(new_df_1.shape,new_df_2.shape)"
      ],
      "execution_count": 47,
      "outputs": [
        {
          "output_type": "stream",
          "text": [
            "(3000, 6) (2000, 6)\n"
          ],
          "name": "stdout"
        }
      ]
    },
    {
      "cell_type": "code",
      "metadata": {
        "id": "Ij5F6xP7iyxm"
      },
      "source": [
        "partial_dp_obj.add_entries(new_df_1['sales_amount'].to_list()) # adding the first 3000 records"
      ],
      "execution_count": 48,
      "outputs": []
    },
    {
      "cell_type": "code",
      "metadata": {
        "id": "ojjed2bNjBFM",
        "outputId": "063c88da-f467-4a55-e92f-8a6507c55e64",
        "colab": {
          "base_uri": "https://localhost:8080/",
          "height": 34
        }
      },
      "source": [
        "partial_dp_obj.privacy_budget_left()"
      ],
      "execution_count": 49,
      "outputs": [
        {
          "output_type": "execute_result",
          "data": {
            "text/plain": [
              "1.0"
            ]
          },
          "metadata": {
            "tags": []
          },
          "execution_count": 49
        }
      ]
    },
    {
      "cell_type": "code",
      "metadata": {
        "id": "qe5rHoRkjEMF",
        "outputId": "676034e3-8e0e-410a-a67d-07e247d274a8",
        "colab": {
          "base_uri": "https://localhost:8080/",
          "height": 34
        }
      },
      "source": [
        "partial_sum_dp = round(partial_dp_obj.result(privacy_budget=0.3), 2) # using only 30% of available privacy budget \n",
        "print(partial_sum_dp)"
      ],
      "execution_count": 50,
      "outputs": [
        {
          "output_type": "stream",
          "text": [
            "381196.24\n"
          ],
          "name": "stdout"
        }
      ]
    },
    {
      "cell_type": "code",
      "metadata": {
        "id": "AjFoROfWjTL5",
        "outputId": "339c4061-5d38-413f-f53b-3d762bb1f179",
        "colab": {
          "base_uri": "https://localhost:8080/",
          "height": 34
        }
      },
      "source": [
        "actual_partial_sum = round(sum(new_df_1['sales_amount'].to_list()), 2)\n",
        "print(actual_partial_sum)"
      ],
      "execution_count": 51,
      "outputs": [
        {
          "output_type": "stream",
          "text": [
            "383911.03\n"
          ],
          "name": "stdout"
        }
      ]
    },
    {
      "cell_type": "code",
      "metadata": {
        "id": "znl0dZKDjpG9",
        "outputId": "7bca1a25-3723-436f-f9d3-9058834d293c",
        "colab": {
          "base_uri": "https://localhost:8080/",
          "height": 34
        }
      },
      "source": [
        "print(\"Difference in sum for first 3000 records which used only 30% privacy budget= {}\".format(round(abs(actual_partial_sum - partial_sum_dp), 2)))"
      ],
      "execution_count": 52,
      "outputs": [
        {
          "output_type": "stream",
          "text": [
            "Difference in sum for first 3000 records which used only 30% privacy budget= 2714.79\n"
          ],
          "name": "stdout"
        }
      ]
    },
    {
      "cell_type": "code",
      "metadata": {
        "id": "TPBU9Pi8kIib",
        "outputId": "d2e1a4ac-85de-41c7-9b44-2163cf47b9e1",
        "colab": {
          "base_uri": "https://localhost:8080/",
          "height": 34
        }
      },
      "source": [
        "partial_dp_obj.privacy_budget_left()"
      ],
      "execution_count": 53,
      "outputs": [
        {
          "output_type": "execute_result",
          "data": {
            "text/plain": [
              "0.7"
            ]
          },
          "metadata": {
            "tags": []
          },
          "execution_count": 53
        }
      ]
    },
    {
      "cell_type": "code",
      "metadata": {
        "id": "FlxLjBwbj4xl",
        "outputId": "5a2e52d5-c6eb-49ab-fa89-45ea211e8a95",
        "colab": {
          "base_uri": "https://localhost:8080/",
          "height": 34
        }
      },
      "source": [
        "partial_dp_obj.add_entries(new_df_2['sales_amount'].to_list()) # adding the remaining 2000 records to the list\n",
        "partial_total_sum = round(partial_dp_obj.result(), 2)\n",
        "print(partial_total_sum)"
      ],
      "execution_count": 54,
      "outputs": [
        {
          "output_type": "stream",
          "text": [
            "637449.44\n"
          ],
          "name": "stdout"
        }
      ]
    },
    {
      "cell_type": "code",
      "metadata": {
        "id": "t7YnY2Y9mlKL",
        "outputId": "d8fc4d9e-140f-406c-ed70-99f0d1dcfa53",
        "colab": {
          "base_uri": "https://localhost:8080/",
          "height": 34
        }
      },
      "source": [
        "partial_dp_obj.privacy_budget_left() # we have used up all the budget available to us"
      ],
      "execution_count": 55,
      "outputs": [
        {
          "output_type": "execute_result",
          "data": {
            "text/plain": [
              "0.0"
            ]
          },
          "metadata": {
            "tags": []
          },
          "execution_count": 55
        }
      ]
    },
    {
      "cell_type": "code",
      "metadata": {
        "id": "pWuFnC5XnN3y"
      },
      "source": [
        "def sum_og_dataset(budget):\n",
        "    '''\n",
        "    Sample Function to calculate BoundedSum on the whole dataset with budget as specified\n",
        "    '''\n",
        "    dp_sum_original_dataset = BoundedSum(epsilon= 1, lower_bound =  5, upper_bound = 250, dtype ='float')\n",
        "    dp_sum_original_dataset.reset()\n",
        "    dp_sum_original_dataset.add_entries(original_dataset['sales_amount'].to_list())\n",
        "    return round(dp_sum_original_dataset.result(budget), 2)\n"
      ],
      "execution_count": 58,
      "outputs": []
    },
    {
      "cell_type": "code",
      "metadata": {
        "id": "FXNolUSlmH7j",
        "outputId": "205a01f7-125b-4fcf-a9f3-5d48ac8b42f6",
        "colab": {
          "base_uri": "https://localhost:8080/",
          "height": 85
        }
      },
      "source": [
        "print(\"Actual Sum: {}\".format(sum_original_dataset))\n",
        "print(\"Sum from the previous run with privacy budget 1.0: {}\".format(dp_sum_og))\n",
        "print(\"Sum when using privacy_budget as 0.7 on the whole dataset together: {}\".format(sum_og_dataset(budget=0.7)))\n",
        "print(\"Sum from this run with privacy budget 0.7 on split dataset: {}\".format(partial_total_sum))\n"
      ],
      "execution_count": 59,
      "outputs": [
        {
          "output_type": "stream",
          "text": [
            "Actual Sum: 636594.59\n",
            "Sum from the previous run with privacy budget 1.0: 636568.44\n",
            "Sum when using privacy_budget as 0.7 on the whole dataset together: 636587.08\n",
            "Sum from this run with privacy budget 0.7 on split dataset: 637449.44\n"
          ],
          "name": "stdout"
        }
      ]
    },
    {
      "cell_type": "markdown",
      "metadata": {
        "id": "9wMctYx6PW1A"
      },
      "source": [
        "## What's Ahead:\n",
        "PyDP GitHub: https://github.com/OpenMined/PyDP\n",
        "\n",
        "Documentation: http://pydp.readthedocs.org/\n",
        "\n",
        "Join Us: #lib_pydp on Slack: http://openmined.slack.com/\n",
        "\n",
        "\n",
        "Contact me:\n",
        "- Twitter: https://twitter.com/chinmayshah899\n",
        "- Linkedin:https://www.linkedin.com/in/chinmayshah99/"
      ]
    }
  ]
}